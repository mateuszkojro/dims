{
 "cells": [
  {
   "cell_type": "code",
   "execution_count": 5,
   "source": [
    "%load_ext autoreload\n",
    "%autoreload 2"
   ],
   "outputs": [
    {
     "output_type": "stream",
     "name": "stdout",
     "text": [
      "The autoreload extension is already loaded. To reload it, use:\n",
      "  %reload_ext autoreload\n"
     ]
    },
    {
     "output_type": "stream",
     "name": "stderr",
     "text": [
      "[autoreload of CustomAlgorithm failed: Traceback (most recent call last):\n",
      "  File \"/home/mateusz/.local/lib/python3.9/site-packages/IPython/extensions/autoreload.py\", line 245, in check\n",
      "    superreload(m, reload, self.old_objects)\n",
      "  File \"/home/mateusz/.local/lib/python3.9/site-packages/IPython/extensions/autoreload.py\", line 410, in superreload\n",
      "    update_generic(old_obj, new_obj)\n",
      "  File \"/home/mateusz/.local/lib/python3.9/site-packages/IPython/extensions/autoreload.py\", line 347, in update_generic\n",
      "    update(a, b)\n",
      "  File \"/home/mateusz/.local/lib/python3.9/site-packages/IPython/extensions/autoreload.py\", line 317, in update_class\n",
      "    update_instances(old, new)\n",
      "  File \"/home/mateusz/.local/lib/python3.9/site-packages/IPython/extensions/autoreload.py\", line 280, in update_instances\n",
      "    ref.__class__ = new\n",
      "  File \"<string>\", line 4, in __setattr__\n",
      "dataclasses.FrozenInstanceError: cannot assign to field '__class__'\n",
      "]\n"
     ]
    }
   ],
   "metadata": {}
  },
  {
   "cell_type": "code",
   "execution_count": 10,
   "source": [
    "from FileCrawler import crawl\n",
    "from CreateDataset import *\n",
    "import pandas as pd"
   ],
   "outputs": [],
   "metadata": {}
  },
  {
   "cell_type": "code",
   "execution_count": 7,
   "source": [
    "all_triggers = crawl(\"/run/media/mateusz/Seagate Expansion Drive/20190330Subset/N1\", analyze)\n",
    "np.save(\"out.npy\", all_triggers, allow_pickle=True)"
   ],
   "outputs": [
    {
     "output_type": "stream",
     "name": "stdout",
     "text": [
      "Analyzing file 0/497 (0.0%)\n",
      "Analyzing file 1/497 (0.2012072434607646%)\n",
      "Analyzing file 2/497 (0.4024144869215292%)\n",
      "Analyzing file 3/497 (0.6036217303822937%)\n",
      "Analyzing file 4/497 (0.8048289738430584%)\n",
      "Analyzing file 5/497 (1.0060362173038229%)\n"
     ]
    }
   ],
   "metadata": {}
  },
  {
   "cell_type": "code",
   "execution_count": 8,
   "source": [
    "rows = []\n",
    "for trigger in all_triggers:\n",
    "    start, end = trigger.bounding_box\n",
    "#     trigger.show()\n",
    "    rows.append(\n",
    "        [trigger.filename, trigger.start_frame, trigger.end_frame, start.x, start.y, end.x, end.y, trigger.magnitude])\n",
    "\n",
    "df = pd.DataFrame(\n",
    "        data=rows,\n",
    "        columns=[[\"file\", \"start_frame\", \"end_frame\", \"box_up_left_x\", \"box_up_left_y\", \"box_down_right_x\",\n",
    "                  \"box_down_right_y\", \"count\"]])\n",
    "df.to_csv(\"out.csv\")\n",
    "df"
   ],
   "outputs": [
    {
     "output_type": "execute_result",
     "data": {
      "text/plain": [
       "                                                file start_frame end_frame  \\\n",
       "0  /run/media/mateusz/Seagate Expansion Drive/201...          35        38   \n",
       "1  /run/media/mateusz/Seagate Expansion Drive/201...          35        38   \n",
       "2  /run/media/mateusz/Seagate Expansion Drive/201...          35        38   \n",
       "3  /run/media/mateusz/Seagate Expansion Drive/201...          35        38   \n",
       "4  /run/media/mateusz/Seagate Expansion Drive/201...          35        38   \n",
       "5  /run/media/mateusz/Seagate Expansion Drive/201...          35        38   \n",
       "6  /run/media/mateusz/Seagate Expansion Drive/201...          35        38   \n",
       "7  /run/media/mateusz/Seagate Expansion Drive/201...          35        38   \n",
       "8  /run/media/mateusz/Seagate Expansion Drive/201...          35        38   \n",
       "9  /run/media/mateusz/Seagate Expansion Drive/201...          35        38   \n",
       "\n",
       "  box_up_left_x box_up_left_y box_down_right_x box_down_right_y count  \n",
       "0          1029           566             1048              621     8  \n",
       "1          1021           566             1038              615     6  \n",
       "2           474           301              504              345     7  \n",
       "3           474           301              498              340     7  \n",
       "4          1628           175             1667              214    10  \n",
       "5          1628           175             1650              204     7  \n",
       "6           371           178              429              193     7  \n",
       "7          1373           122             1395              167     8  \n",
       "8           286           108              305              147     8  \n",
       "9           854            74              897              115     9  "
      ],
      "text/html": [
       "<div>\n",
       "<style scoped>\n",
       "    .dataframe tbody tr th:only-of-type {\n",
       "        vertical-align: middle;\n",
       "    }\n",
       "\n",
       "    .dataframe tbody tr th {\n",
       "        vertical-align: top;\n",
       "    }\n",
       "\n",
       "    .dataframe thead tr th {\n",
       "        text-align: left;\n",
       "    }\n",
       "</style>\n",
       "<table border=\"1\" class=\"dataframe\">\n",
       "  <thead>\n",
       "    <tr>\n",
       "      <th></th>\n",
       "      <th>file</th>\n",
       "      <th>start_frame</th>\n",
       "      <th>end_frame</th>\n",
       "      <th>box_up_left_x</th>\n",
       "      <th>box_up_left_y</th>\n",
       "      <th>box_down_right_x</th>\n",
       "      <th>box_down_right_y</th>\n",
       "      <th>count</th>\n",
       "    </tr>\n",
       "  </thead>\n",
       "  <tbody>\n",
       "    <tr>\n",
       "      <th>0</th>\n",
       "      <td>/run/media/mateusz/Seagate Expansion Drive/201...</td>\n",
       "      <td>35</td>\n",
       "      <td>38</td>\n",
       "      <td>1029</td>\n",
       "      <td>566</td>\n",
       "      <td>1048</td>\n",
       "      <td>621</td>\n",
       "      <td>8</td>\n",
       "    </tr>\n",
       "    <tr>\n",
       "      <th>1</th>\n",
       "      <td>/run/media/mateusz/Seagate Expansion Drive/201...</td>\n",
       "      <td>35</td>\n",
       "      <td>38</td>\n",
       "      <td>1021</td>\n",
       "      <td>566</td>\n",
       "      <td>1038</td>\n",
       "      <td>615</td>\n",
       "      <td>6</td>\n",
       "    </tr>\n",
       "    <tr>\n",
       "      <th>2</th>\n",
       "      <td>/run/media/mateusz/Seagate Expansion Drive/201...</td>\n",
       "      <td>35</td>\n",
       "      <td>38</td>\n",
       "      <td>474</td>\n",
       "      <td>301</td>\n",
       "      <td>504</td>\n",
       "      <td>345</td>\n",
       "      <td>7</td>\n",
       "    </tr>\n",
       "    <tr>\n",
       "      <th>3</th>\n",
       "      <td>/run/media/mateusz/Seagate Expansion Drive/201...</td>\n",
       "      <td>35</td>\n",
       "      <td>38</td>\n",
       "      <td>474</td>\n",
       "      <td>301</td>\n",
       "      <td>498</td>\n",
       "      <td>340</td>\n",
       "      <td>7</td>\n",
       "    </tr>\n",
       "    <tr>\n",
       "      <th>4</th>\n",
       "      <td>/run/media/mateusz/Seagate Expansion Drive/201...</td>\n",
       "      <td>35</td>\n",
       "      <td>38</td>\n",
       "      <td>1628</td>\n",
       "      <td>175</td>\n",
       "      <td>1667</td>\n",
       "      <td>214</td>\n",
       "      <td>10</td>\n",
       "    </tr>\n",
       "    <tr>\n",
       "      <th>5</th>\n",
       "      <td>/run/media/mateusz/Seagate Expansion Drive/201...</td>\n",
       "      <td>35</td>\n",
       "      <td>38</td>\n",
       "      <td>1628</td>\n",
       "      <td>175</td>\n",
       "      <td>1650</td>\n",
       "      <td>204</td>\n",
       "      <td>7</td>\n",
       "    </tr>\n",
       "    <tr>\n",
       "      <th>6</th>\n",
       "      <td>/run/media/mateusz/Seagate Expansion Drive/201...</td>\n",
       "      <td>35</td>\n",
       "      <td>38</td>\n",
       "      <td>371</td>\n",
       "      <td>178</td>\n",
       "      <td>429</td>\n",
       "      <td>193</td>\n",
       "      <td>7</td>\n",
       "    </tr>\n",
       "    <tr>\n",
       "      <th>7</th>\n",
       "      <td>/run/media/mateusz/Seagate Expansion Drive/201...</td>\n",
       "      <td>35</td>\n",
       "      <td>38</td>\n",
       "      <td>1373</td>\n",
       "      <td>122</td>\n",
       "      <td>1395</td>\n",
       "      <td>167</td>\n",
       "      <td>8</td>\n",
       "    </tr>\n",
       "    <tr>\n",
       "      <th>8</th>\n",
       "      <td>/run/media/mateusz/Seagate Expansion Drive/201...</td>\n",
       "      <td>35</td>\n",
       "      <td>38</td>\n",
       "      <td>286</td>\n",
       "      <td>108</td>\n",
       "      <td>305</td>\n",
       "      <td>147</td>\n",
       "      <td>8</td>\n",
       "    </tr>\n",
       "    <tr>\n",
       "      <th>9</th>\n",
       "      <td>/run/media/mateusz/Seagate Expansion Drive/201...</td>\n",
       "      <td>35</td>\n",
       "      <td>38</td>\n",
       "      <td>854</td>\n",
       "      <td>74</td>\n",
       "      <td>897</td>\n",
       "      <td>115</td>\n",
       "      <td>9</td>\n",
       "    </tr>\n",
       "  </tbody>\n",
       "</table>\n",
       "</div>"
      ]
     },
     "metadata": {},
     "execution_count": 8
    }
   ],
   "metadata": {
    "tags": []
   }
  },
  {
   "cell_type": "code",
   "execution_count": 20,
   "source": [
    "from CustomAlgorithm import *\n"
   ],
   "outputs": [],
   "metadata": {}
  },
  {
   "cell_type": "code",
   "execution_count": 21,
   "source": [
    "\n",
    "new_func(\"Mateusz\")"
   ],
   "outputs": [
    {
     "output_type": "stream",
     "name": "stdout",
     "text": [
      "Mateuszelson\n"
     ]
    }
   ],
   "metadata": {}
  },
  {
   "cell_type": "code",
   "execution_count": null,
   "source": [],
   "outputs": [],
   "metadata": {}
  }
 ],
 "metadata": {
  "kernelspec": {
   "name": "python3",
   "display_name": "Python 3.9.6 64-bit"
  },
  "language_info": {
   "codemirror_mode": {
    "name": "ipython",
    "version": 3
   },
   "file_extension": ".py",
   "mimetype": "text/x-python",
   "name": "python",
   "nbconvert_exporter": "python",
   "pygments_lexer": "ipython3",
   "version": "3.9.6"
  },
  "interpreter": {
   "hash": "e7370f93d1d0cde622a1f8e1c04877d8463912d04d973331ad4851f04de6915a"
  }
 },
 "nbformat": 4,
 "nbformat_minor": 5
}