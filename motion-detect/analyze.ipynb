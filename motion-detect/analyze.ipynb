{
 "cells": [
  {
   "cell_type": "code",
   "execution_count": 1,
   "metadata": {},
   "outputs": [],
   "source": [
    "import numpy as np\n",
    "import matplotlib as plt\n",
    "import pandas as pd\n",
    "import matplotlib.pyplot as plt\n",
    "from pathlib import *\n",
    "\n",
    "from CustomAlgorithm import *\n",
    "\n",
    "drive = \"/run/media/mateusz/Seagate Expansion Drive\""
   ]
  },
  {
   "cell_type": "code",
   "execution_count": 2,
   "metadata": {},
   "outputs": [],
   "source": [
    "df = pd.read_csv(\"results/2021-08-04-9-43-michal.csv\")\n",
    "df.sort_values([\"count\"], inplace=True, ascending=False)\n",
    "\n",
    "for index, row in df.iterrows():\n",
    "    p = PurePath(row['file'])\n",
    "    p = Path(*p.parts[5:])\n",
    "    p = drive / p\n",
    "    df.at[index, 'file'] = str(p)\n"
   ]
  },
  {
   "cell_type": "code",
   "execution_count": 3,
   "metadata": {},
   "outputs": [
    {
     "data": {
      "text/html": [
       "<div>\n",
       "<style scoped>\n",
       "    .dataframe tbody tr th:only-of-type {\n",
       "        vertical-align: middle;\n",
       "    }\n",
       "\n",
       "    .dataframe tbody tr th {\n",
       "        vertical-align: top;\n",
       "    }\n",
       "\n",
       "    .dataframe thead th {\n",
       "        text-align: right;\n",
       "    }\n",
       "</style>\n",
       "<table border=\"1\" class=\"dataframe\">\n",
       "  <thead>\n",
       "    <tr style=\"text-align: right;\">\n",
       "      <th></th>\n",
       "      <th>Unnamed: 0</th>\n",
       "      <th>file</th>\n",
       "      <th>start_frame</th>\n",
       "      <th>end_frame</th>\n",
       "      <th>box_up_left_x</th>\n",
       "      <th>box_up_left_y</th>\n",
       "      <th>box_down_right_x</th>\n",
       "      <th>box_down_right_y</th>\n",
       "      <th>length</th>\n",
       "      <th>count</th>\n",
       "    </tr>\n",
       "  </thead>\n",
       "  <tbody>\n",
       "    <tr>\n",
       "      <th>1434</th>\n",
       "      <td>1434</td>\n",
       "      <td>/run/media/mateusz/Seagate Expansion Drive/N2B...</td>\n",
       "      <td>0</td>\n",
       "      <td>725</td>\n",
       "      <td>1044</td>\n",
       "      <td>404</td>\n",
       "      <td>1917</td>\n",
       "      <td>427</td>\n",
       "      <td>507.098610</td>\n",
       "      <td>1727</td>\n",
       "    </tr>\n",
       "    <tr>\n",
       "      <th>674</th>\n",
       "      <td>674</td>\n",
       "      <td>/run/media/mateusz/Seagate Expansion Drive/N2B...</td>\n",
       "      <td>5</td>\n",
       "      <td>605</td>\n",
       "      <td>1484</td>\n",
       "      <td>639</td>\n",
       "      <td>1616</td>\n",
       "      <td>708</td>\n",
       "      <td>148.946299</td>\n",
       "      <td>1617</td>\n",
       "    </tr>\n",
       "    <tr>\n",
       "      <th>4715</th>\n",
       "      <td>4715</td>\n",
       "      <td>/run/media/mateusz/Seagate Expansion Drive/N1B...</td>\n",
       "      <td>7</td>\n",
       "      <td>799</td>\n",
       "      <td>1237</td>\n",
       "      <td>712</td>\n",
       "      <td>1388</td>\n",
       "      <td>804</td>\n",
       "      <td>173.738309</td>\n",
       "      <td>1479</td>\n",
       "    </tr>\n",
       "    <tr>\n",
       "      <th>675</th>\n",
       "      <td>675</td>\n",
       "      <td>/run/media/mateusz/Seagate Expansion Drive/N2B...</td>\n",
       "      <td>5</td>\n",
       "      <td>605</td>\n",
       "      <td>1517</td>\n",
       "      <td>623</td>\n",
       "      <td>1627</td>\n",
       "      <td>690</td>\n",
       "      <td>104.000000</td>\n",
       "      <td>1471</td>\n",
       "    </tr>\n",
       "    <tr>\n",
       "      <th>4659</th>\n",
       "      <td>4659</td>\n",
       "      <td>/run/media/mateusz/Seagate Expansion Drive/N1B...</td>\n",
       "      <td>23</td>\n",
       "      <td>816</td>\n",
       "      <td>1292</td>\n",
       "      <td>911</td>\n",
       "      <td>1401</td>\n",
       "      <td>1007</td>\n",
       "      <td>26.076810</td>\n",
       "      <td>1435</td>\n",
       "    </tr>\n",
       "    <tr>\n",
       "      <th>...</th>\n",
       "      <td>...</td>\n",
       "      <td>...</td>\n",
       "      <td>...</td>\n",
       "      <td>...</td>\n",
       "      <td>...</td>\n",
       "      <td>...</td>\n",
       "      <td>...</td>\n",
       "      <td>...</td>\n",
       "      <td>...</td>\n",
       "      <td>...</td>\n",
       "    </tr>\n",
       "    <tr>\n",
       "      <th>266</th>\n",
       "      <td>266</td>\n",
       "      <td>/run/media/mateusz/Seagate Expansion Drive/N2B...</td>\n",
       "      <td>29</td>\n",
       "      <td>33</td>\n",
       "      <td>1231</td>\n",
       "      <td>654</td>\n",
       "      <td>1238</td>\n",
       "      <td>660</td>\n",
       "      <td>23.853721</td>\n",
       "      <td>2</td>\n",
       "    </tr>\n",
       "    <tr>\n",
       "      <th>265</th>\n",
       "      <td>265</td>\n",
       "      <td>/run/media/mateusz/Seagate Expansion Drive/N2B...</td>\n",
       "      <td>29</td>\n",
       "      <td>33</td>\n",
       "      <td>1231</td>\n",
       "      <td>660</td>\n",
       "      <td>1239</td>\n",
       "      <td>664</td>\n",
       "      <td>31.144823</td>\n",
       "      <td>2</td>\n",
       "    </tr>\n",
       "    <tr>\n",
       "      <th>384</th>\n",
       "      <td>384</td>\n",
       "      <td>/run/media/mateusz/Seagate Expansion Drive/N2B...</td>\n",
       "      <td>31</td>\n",
       "      <td>34</td>\n",
       "      <td>856</td>\n",
       "      <td>874</td>\n",
       "      <td>859</td>\n",
       "      <td>876</td>\n",
       "      <td>20.124612</td>\n",
       "      <td>2</td>\n",
       "    </tr>\n",
       "    <tr>\n",
       "      <th>264</th>\n",
       "      <td>264</td>\n",
       "      <td>/run/media/mateusz/Seagate Expansion Drive/N2B...</td>\n",
       "      <td>29</td>\n",
       "      <td>33</td>\n",
       "      <td>1229</td>\n",
       "      <td>660</td>\n",
       "      <td>1231</td>\n",
       "      <td>669</td>\n",
       "      <td>29.154759</td>\n",
       "      <td>2</td>\n",
       "    </tr>\n",
       "    <tr>\n",
       "      <th>3385</th>\n",
       "      <td>3385</td>\n",
       "      <td>/run/media/mateusz/Seagate Expansion Drive/N1B...</td>\n",
       "      <td>60</td>\n",
       "      <td>64</td>\n",
       "      <td>1415</td>\n",
       "      <td>373</td>\n",
       "      <td>1420</td>\n",
       "      <td>376</td>\n",
       "      <td>22.022716</td>\n",
       "      <td>2</td>\n",
       "    </tr>\n",
       "  </tbody>\n",
       "</table>\n",
       "<p>4841 rows × 10 columns</p>\n",
       "</div>"
      ],
      "text/plain": [
       "      Unnamed: 0                                               file  \\\n",
       "1434        1434  /run/media/mateusz/Seagate Expansion Drive/N2B...   \n",
       "674          674  /run/media/mateusz/Seagate Expansion Drive/N2B...   \n",
       "4715        4715  /run/media/mateusz/Seagate Expansion Drive/N1B...   \n",
       "675          675  /run/media/mateusz/Seagate Expansion Drive/N2B...   \n",
       "4659        4659  /run/media/mateusz/Seagate Expansion Drive/N1B...   \n",
       "...          ...                                                ...   \n",
       "266          266  /run/media/mateusz/Seagate Expansion Drive/N2B...   \n",
       "265          265  /run/media/mateusz/Seagate Expansion Drive/N2B...   \n",
       "384          384  /run/media/mateusz/Seagate Expansion Drive/N2B...   \n",
       "264          264  /run/media/mateusz/Seagate Expansion Drive/N2B...   \n",
       "3385        3385  /run/media/mateusz/Seagate Expansion Drive/N1B...   \n",
       "\n",
       "      start_frame  end_frame  box_up_left_x  box_up_left_y  box_down_right_x  \\\n",
       "1434            0        725           1044            404              1917   \n",
       "674             5        605           1484            639              1616   \n",
       "4715            7        799           1237            712              1388   \n",
       "675             5        605           1517            623              1627   \n",
       "4659           23        816           1292            911              1401   \n",
       "...           ...        ...            ...            ...               ...   \n",
       "266            29         33           1231            654              1238   \n",
       "265            29         33           1231            660              1239   \n",
       "384            31         34            856            874               859   \n",
       "264            29         33           1229            660              1231   \n",
       "3385           60         64           1415            373              1420   \n",
       "\n",
       "      box_down_right_y      length  count  \n",
       "1434               427  507.098610   1727  \n",
       "674                708  148.946299   1617  \n",
       "4715               804  173.738309   1479  \n",
       "675                690  104.000000   1471  \n",
       "4659              1007   26.076810   1435  \n",
       "...                ...         ...    ...  \n",
       "266                660   23.853721      2  \n",
       "265                664   31.144823      2  \n",
       "384                876   20.124612      2  \n",
       "264                669   29.154759      2  \n",
       "3385               376   22.022716      2  \n",
       "\n",
       "[4841 rows x 10 columns]"
      ]
     },
     "execution_count": 3,
     "metadata": {},
     "output_type": "execute_result"
    }
   ],
   "source": [
    "df"
   ]
  },
  {
   "cell_type": "code",
   "execution_count": 4,
   "metadata": {},
   "outputs": [],
   "source": [
    "triggers = [TriggerInfo.from_csv_row(row) for index, row in df.iterrows()]"
   ]
  },
  {
   "cell_type": "code",
   "execution_count": 5,
   "metadata": {
    "scrolled": true
   },
   "outputs": [
    {
     "data": {
      "text/plain": [
       "[<matplotlib.lines.Line2D at 0x7fec74430040>]"
      ]
     },
     "execution_count": 5,
     "metadata": {},
     "output_type": "execute_result"
    },
    {
     "data": {
      "image/png": "[encoded data removed]",
      "text/plain": [
       "<Figure size 432x288 with 1 Axes>"
      ]
     },
     "metadata": {
      "needs_background": "light"
     },
     "output_type": "display_data"
    }
   ],
   "source": [
    "sections = [(trigger.get_center().x, trigger.get_center().y) for trigger in triggers]\n",
    "xs = ys = []\n",
    "\n",
    "for section in sections:\n",
    "    xs.append(section[0] // 120)\n",
    "    ys.append(section[1] // 120)\n",
    "    \n",
    "plt.plot(xs)"
   ]
  },
  {
   "cell_type": "code",
   "execution_count": 25,
   "metadata": {},
   "outputs": [
    {
     "data": {
      "image/png": "[encoded data removed]",
      "text/plain": [
       "<Figure size 432x288 with 2 Axes>"
      ]
     },
     "metadata": {
      "needs_background": "light"
     },
     "output_type": "display_data"
    },
    {
     "data": {
      "image/png": "[encoded data removed]",
      "text/plain": [
       "<Figure size 1152x648 with 2 Axes>"
      ]
     },
     "metadata": {
      "needs_background": "light"
     },
     "output_type": "display_data"
    }
   ],
   "source": [
    "from matplotlib.colors import LogNorm\n",
    "\n",
    "parts = 120 # px\n",
    "\n",
    "plt.hist2d(xs, ys, \n",
    "    bins=(1920 // parts, 1080 // parts), \n",
    "    norm=LogNorm())\n",
    "plt.gca().set_aspect('equal')\n",
    "plt.colorbar()\n",
    "plt.show()\n",
    "\n",
    "z = np.zeros(shape=(1080 // parts, 1920 // parts))\n",
    "\n",
    "for section in sections:\n",
    "    x , y = section\n",
    "    z[y // parts][x // parts] += 1\n",
    "\n",
    "%matplotlib inline\n",
    "plt.figure(figsize=(1920//120, 1080//120))\n",
    "plt.imshow(z)\n",
    "plt.gca().set_aspect('equal')\n",
    "plt.colorbar()\n",
    "plt.show()"
   ]
  },
  {
   "cell_type": "code",
   "execution_count": 24,
   "metadata": {},
   "outputs": [
    {
     "data": {
      "image/png": "[encoded data removed]",
      "text/plain": [
       "<Figure size 1368x720 with 2 Axes>"
      ]
     },
     "metadata": {
      "needs_background": "light"
     },
     "output_type": "display_data"
    }
   ],
   "source": [
    "import random\n",
    "\n",
    "rect_size  = 120\n",
    "\n",
    "z = np.zeros(shape=(1080 // rect_size, 1920 // rect_size))\n",
    "\n",
    "for _ in range(len(df)):\n",
    "    x = random.randint(0,1920 // rect_size)\n",
    "    y = random.randint(0,1080 // rect_size)\n",
    "    z[y][x] += 1\n",
    "\n",
    "%matplotlib inline\n",
    "plt.figure(figsize=(1920//100, 1080//100),)\n",
    "plt.imshow(z)\n",
    "plt.title(\"Rly random\")\n",
    "plt.gca().set_aspect('equal')\n",
    "plt.colorbar()\n",
    "plt.show()"
   ]
  },
  {
   "cell_type": "code",
   "execution_count": 23,
   "metadata": {},
   "outputs": [
    {
     "name": "stdout",
     "output_type": "stream",
     "text": [
      "Using matplotlib backend: TkAgg\n"
     ]
    },
    {
     "ename": "IndexError",
     "evalue": "single positional indexer is out-of-bounds",
     "output_type": "error",
     "traceback": [
      "\u001b[0;31m---------------------------------------------------------------------------\u001b[0m",
      "\u001b[0;31mIndexError\u001b[0m                                Traceback (most recent call last)",
      "\u001b[0;32m/tmp/ipykernel_35116/306258786.py\u001b[0m in \u001b[0;36m<module>\u001b[0;34m\u001b[0m\n\u001b[1;32m      6\u001b[0m \u001b[0;32mimport\u001b[0m \u001b[0mrandom\u001b[0m\u001b[0;34m\u001b[0m\u001b[0;34m\u001b[0m\u001b[0m\n\u001b[1;32m      7\u001b[0m \u001b[0;34m\u001b[0m\u001b[0m\n\u001b[0;32m----> 8\u001b[0;31m \u001b[0mshow_trigger\u001b[0m\u001b[0;34m(\u001b[0m\u001b[0mTriggerInfo\u001b[0m\u001b[0;34m.\u001b[0m\u001b[0mfrom_csv_row\u001b[0m\u001b[0;34m(\u001b[0m\u001b[0mdf\u001b[0m\u001b[0;34m.\u001b[0m\u001b[0miloc\u001b[0m\u001b[0;34m[\u001b[0m\u001b[0mrandom\u001b[0m\u001b[0;34m.\u001b[0m\u001b[0mrandint\u001b[0m\u001b[0;34m(\u001b[0m\u001b[0;36m0\u001b[0m\u001b[0;34m,\u001b[0m \u001b[0;36m3000\u001b[0m\u001b[0;34m)\u001b[0m\u001b[0;34m]\u001b[0m\u001b[0;34m)\u001b[0m\u001b[0;34m)\u001b[0m\u001b[0;34m\u001b[0m\u001b[0;34m\u001b[0m\u001b[0m\n\u001b[0m",
      "\u001b[0;32m~/.local/lib/python3.9/site-packages/pandas/core/indexing.py\u001b[0m in \u001b[0;36m__getitem__\u001b[0;34m(self, key)\u001b[0m\n\u001b[1;32m    929\u001b[0m \u001b[0;34m\u001b[0m\u001b[0m\n\u001b[1;32m    930\u001b[0m             \u001b[0mmaybe_callable\u001b[0m \u001b[0;34m=\u001b[0m \u001b[0mcom\u001b[0m\u001b[0;34m.\u001b[0m\u001b[0mapply_if_callable\u001b[0m\u001b[0;34m(\u001b[0m\u001b[0mkey\u001b[0m\u001b[0;34m,\u001b[0m \u001b[0mself\u001b[0m\u001b[0;34m.\u001b[0m\u001b[0mobj\u001b[0m\u001b[0;34m)\u001b[0m\u001b[0;34m\u001b[0m\u001b[0;34m\u001b[0m\u001b[0m\n\u001b[0;32m--> 931\u001b[0;31m             \u001b[0;32mreturn\u001b[0m \u001b[0mself\u001b[0m\u001b[0;34m.\u001b[0m\u001b[0m_getitem_axis\u001b[0m\u001b[0;34m(\u001b[0m\u001b[0mmaybe_callable\u001b[0m\u001b[0;34m,\u001b[0m \u001b[0maxis\u001b[0m\u001b[0;34m=\u001b[0m\u001b[0maxis\u001b[0m\u001b[0;34m)\u001b[0m\u001b[0;34m\u001b[0m\u001b[0;34m\u001b[0m\u001b[0m\n\u001b[0m\u001b[1;32m    932\u001b[0m \u001b[0;34m\u001b[0m\u001b[0m\n\u001b[1;32m    933\u001b[0m     \u001b[0;32mdef\u001b[0m \u001b[0m_is_scalar_access\u001b[0m\u001b[0;34m(\u001b[0m\u001b[0mself\u001b[0m\u001b[0;34m,\u001b[0m \u001b[0mkey\u001b[0m\u001b[0;34m:\u001b[0m \u001b[0mtuple\u001b[0m\u001b[0;34m)\u001b[0m\u001b[0;34m:\u001b[0m\u001b[0;34m\u001b[0m\u001b[0;34m\u001b[0m\u001b[0m\n",
      "\u001b[0;32m~/.local/lib/python3.9/site-packages/pandas/core/indexing.py\u001b[0m in \u001b[0;36m_getitem_axis\u001b[0;34m(self, key, axis)\u001b[0m\n\u001b[1;32m   1564\u001b[0m \u001b[0;34m\u001b[0m\u001b[0m\n\u001b[1;32m   1565\u001b[0m             \u001b[0;31m# validate the location\u001b[0m\u001b[0;34m\u001b[0m\u001b[0;34m\u001b[0m\u001b[0;34m\u001b[0m\u001b[0m\n\u001b[0;32m-> 1566\u001b[0;31m             \u001b[0mself\u001b[0m\u001b[0;34m.\u001b[0m\u001b[0m_validate_integer\u001b[0m\u001b[0;34m(\u001b[0m\u001b[0mkey\u001b[0m\u001b[0;34m,\u001b[0m \u001b[0maxis\u001b[0m\u001b[0;34m)\u001b[0m\u001b[0;34m\u001b[0m\u001b[0;34m\u001b[0m\u001b[0m\n\u001b[0m\u001b[1;32m   1567\u001b[0m \u001b[0;34m\u001b[0m\u001b[0m\n\u001b[1;32m   1568\u001b[0m             \u001b[0;32mreturn\u001b[0m \u001b[0mself\u001b[0m\u001b[0;34m.\u001b[0m\u001b[0mobj\u001b[0m\u001b[0;34m.\u001b[0m\u001b[0m_ixs\u001b[0m\u001b[0;34m(\u001b[0m\u001b[0mkey\u001b[0m\u001b[0;34m,\u001b[0m \u001b[0maxis\u001b[0m\u001b[0;34m=\u001b[0m\u001b[0maxis\u001b[0m\u001b[0;34m)\u001b[0m\u001b[0;34m\u001b[0m\u001b[0;34m\u001b[0m\u001b[0m\n",
      "\u001b[0;32m~/.local/lib/python3.9/site-packages/pandas/core/indexing.py\u001b[0m in \u001b[0;36m_validate_integer\u001b[0;34m(self, key, axis)\u001b[0m\n\u001b[1;32m   1498\u001b[0m         \u001b[0mlen_axis\u001b[0m \u001b[0;34m=\u001b[0m \u001b[0mlen\u001b[0m\u001b[0;34m(\u001b[0m\u001b[0mself\u001b[0m\u001b[0;34m.\u001b[0m\u001b[0mobj\u001b[0m\u001b[0;34m.\u001b[0m\u001b[0m_get_axis\u001b[0m\u001b[0;34m(\u001b[0m\u001b[0maxis\u001b[0m\u001b[0;34m)\u001b[0m\u001b[0;34m)\u001b[0m\u001b[0;34m\u001b[0m\u001b[0;34m\u001b[0m\u001b[0m\n\u001b[1;32m   1499\u001b[0m         \u001b[0;32mif\u001b[0m \u001b[0mkey\u001b[0m \u001b[0;34m>=\u001b[0m \u001b[0mlen_axis\u001b[0m \u001b[0;32mor\u001b[0m \u001b[0mkey\u001b[0m \u001b[0;34m<\u001b[0m \u001b[0;34m-\u001b[0m\u001b[0mlen_axis\u001b[0m\u001b[0;34m:\u001b[0m\u001b[0;34m\u001b[0m\u001b[0;34m\u001b[0m\u001b[0m\n\u001b[0;32m-> 1500\u001b[0;31m             \u001b[0;32mraise\u001b[0m \u001b[0mIndexError\u001b[0m\u001b[0;34m(\u001b[0m\u001b[0;34m\"single positional indexer is out-of-bounds\"\u001b[0m\u001b[0;34m)\u001b[0m\u001b[0;34m\u001b[0m\u001b[0;34m\u001b[0m\u001b[0m\n\u001b[0m\u001b[1;32m   1501\u001b[0m \u001b[0;34m\u001b[0m\u001b[0m\n\u001b[1;32m   1502\u001b[0m     \u001b[0;31m# -------------------------------------------------------------------\u001b[0m\u001b[0;34m\u001b[0m\u001b[0;34m\u001b[0m\u001b[0;34m\u001b[0m\u001b[0m\n",
      "\u001b[0;31mIndexError\u001b[0m: single positional indexer is out-of-bounds"
     ]
    }
   ],
   "source": [
    "%matplotlib\n",
    "# for row in range(len(df)):\n",
    "#     show_trigger(TriggerInfo.from_csv_row(df.iloc[0]))\n",
    "#     break\n",
    "\n",
    "import random\n",
    "\n",
    "show_trigger(TriggerInfo.from_csv_row(df.iloc[random.randint(0, 3000)]))"
   ]
  },
  {
   "cell_type": "code",
   "execution_count": 9,
   "metadata": {},
   "outputs": [
    {
     "ename": "NameError",
     "evalue": "name 'merged_rev_df' is not defined",
     "output_type": "error",
     "traceback": [
      "\u001b[0;31m---------------------------------------------------------------------------\u001b[0m",
      "\u001b[0;31mNameError\u001b[0m                                 Traceback (most recent call last)",
      "\u001b[0;32m/tmp/ipykernel_35116/1629484552.py\u001b[0m in \u001b[0;36m<module>\u001b[0;34m\u001b[0m\n\u001b[0;32m----> 1\u001b[0;31m \u001b[0mcols_check\u001b[0m \u001b[0;34m=\u001b[0m \u001b[0mmerged_rev_df\u001b[0m\u001b[0;34m[\u001b[0m\u001b[0;34m'cell_id'\u001b[0m\u001b[0;34m]\u001b[0m \u001b[0;34m%\u001b[0m \u001b[0mnum_spacial_horizontal_steps\u001b[0m\u001b[0;34m\u001b[0m\u001b[0;34m\u001b[0m\u001b[0m\n\u001b[0m\u001b[1;32m      2\u001b[0m \u001b[0mrows_check\u001b[0m \u001b[0;34m=\u001b[0m \u001b[0mmerged_rev_df\u001b[0m\u001b[0;34m[\u001b[0m\u001b[0;34m'cell_id'\u001b[0m\u001b[0;34m]\u001b[0m \u001b[0;34m//\u001b[0m \u001b[0mnum_spacial_horizontal_steps\u001b[0m\u001b[0;34m\u001b[0m\u001b[0;34m\u001b[0m\u001b[0m\n\u001b[1;32m      3\u001b[0m \u001b[0;34m\u001b[0m\u001b[0m\n\u001b[1;32m      4\u001b[0m \u001b[0mnp\u001b[0m\u001b[0;34m.\u001b[0m\u001b[0mmin\u001b[0m\u001b[0;34m(\u001b[0m\u001b[0mcols_check\u001b[0m \u001b[0;34m==\u001b[0m \u001b[0;34m(\u001b[0m\u001b[0mmerged_rev_df\u001b[0m\u001b[0;34m[\u001b[0m\u001b[0;34m'rect_x_min'\u001b[0m\u001b[0;34m]\u001b[0m \u001b[0;34m+\u001b[0m \u001b[0mmerged_rev_df\u001b[0m\u001b[0;34m[\u001b[0m\u001b[0;34m'rect_centeroid_x'\u001b[0m\u001b[0;34m]\u001b[0m\u001b[0;34m)\u001b[0m \u001b[0;34m//\u001b[0m \u001b[0mSPACIAL_RESOLUTION_UNIT\u001b[0m\u001b[0;34m[\u001b[0m\u001b[0;36m0\u001b[0m\u001b[0;34m]\u001b[0m\u001b[0;34m)\u001b[0m\u001b[0;34m\u001b[0m\u001b[0;34m\u001b[0m\u001b[0m\n\u001b[1;32m      5\u001b[0m \u001b[0;34m\u001b[0m\u001b[0m\n",
      "\u001b[0;31mNameError\u001b[0m: name 'merged_rev_df' is not defined"
     ]
    }
   ],
   "source": [
    "# cols_check = merged_rev_df['cell_id'] % num_spacial_horizontal_steps\n",
    "# rows_check = merged_rev_df['cell_id'] // num_spacial_horizontal_steps\n",
    "\n",
    "# np.min(cols_check == (merged_rev_df['rect_x_min'] + merged_rev_df['rect_centeroid_x']) // SPACIAL_RESOLUTION_UNIT[0])\n",
    "# \n",
    "# np.min(rows_check == (merged_rev_df['rect_y_min'] + merged_rev_df['rect_centeroid_y']) // SPACIAL_RESOLUTION_UNIT[1])"
   ]
  },
  {
   "cell_type": "code",
   "execution_count": 15,
   "metadata": {},
   "outputs": [],
   "source": [
    "df = pd.read_csv(\"out.csv\")"
   ]
  },
  {
   "cell_type": "code",
   "execution_count": 16,
   "metadata": {},
   "outputs": [
    {
     "data": {
      "text/html": [
       "<div>\n",
       "<style scoped>\n",
       "    .dataframe tbody tr th:only-of-type {\n",
       "        vertical-align: middle;\n",
       "    }\n",
       "\n",
       "    .dataframe tbody tr th {\n",
       "        vertical-align: top;\n",
       "    }\n",
       "\n",
       "    .dataframe thead th {\n",
       "        text-align: right;\n",
       "    }\n",
       "</style>\n",
       "<table border=\"1\" class=\"dataframe\">\n",
       "  <thead>\n",
       "    <tr style=\"text-align: right;\">\n",
       "      <th></th>\n",
       "      <th>Unnamed: 0</th>\n",
       "      <th>file</th>\n",
       "      <th>start_frame</th>\n",
       "      <th>end_frame</th>\n",
       "      <th>box_up_left_x</th>\n",
       "      <th>box_up_left_y</th>\n",
       "      <th>box_down_right_x</th>\n",
       "      <th>box_down_right_y</th>\n",
       "      <th>length</th>\n",
       "      <th>count</th>\n",
       "      <th>section</th>\n",
       "    </tr>\n",
       "  </thead>\n",
       "  <tbody>\n",
       "    <tr>\n",
       "      <th>0</th>\n",
       "      <td>0</td>\n",
       "      <td>/run/media/mateusz/Seagate Expansion Drive//N2...</td>\n",
       "      <td>28</td>\n",
       "      <td>41</td>\n",
       "      <td>960</td>\n",
       "      <td>318</td>\n",
       "      <td>965</td>\n",
       "      <td>356</td>\n",
       "      <td>37.215588</td>\n",
       "      <td>14</td>\n",
       "      <td>40</td>\n",
       "    </tr>\n",
       "  </tbody>\n",
       "</table>\n",
       "</div>"
      ],
      "text/plain": [
       "   Unnamed: 0                                               file  start_frame  \\\n",
       "0           0  /run/media/mateusz/Seagate Expansion Drive//N2...           28   \n",
       "\n",
       "   end_frame  box_up_left_x  box_up_left_y  box_down_right_x  \\\n",
       "0         41            960            318               965   \n",
       "\n",
       "   box_down_right_y     length  count  section  \n",
       "0               356  37.215588     14       40  "
      ]
     },
     "execution_count": 16,
     "metadata": {},
     "output_type": "execute_result"
    }
   ],
   "source": [
    "df"
   ]
  },
  {
   "cell_type": "code",
   "execution_count": 18,
   "metadata": {},
   "outputs": [
    {
     "name": "stdout",
     "output_type": "stream",
     "text": [
      "Using matplotlib backend: TkAgg\n"
     ]
    }
   ],
   "source": [
    "%matplotlib\n",
    "# plt.Figure(figsize=(1920 // 60, 1080 //60))\n",
    "for i in range(len(df)):\n",
    "    show_trigger(TriggerInfo.from_csv_row(df.iloc[i]), (1920, 1080))"
   ]
  },
  {
   "cell_type": "code",
   "execution_count": null,
   "metadata": {},
   "outputs": [],
   "source": []
  }
 ],
 "metadata": {
  "interpreter": {
   "hash": "e7370f93d1d0cde622a1f8e1c04877d8463912d04d973331ad4851f04de6915a"
  },
  "kernelspec": {
   "display_name": "Python 3 (ipykernel)",
   "language": "python",
   "name": "python3"
  },
  "language_info": {
   "codemirror_mode": {
    "name": "ipython",
    "version": 3
   },
   "file_extension": ".py",
   "mimetype": "text/x-python",
   "name": "python",
   "nbconvert_exporter": "python",
   "pygments_lexer": "ipython3",
   "version": "3.9.6"
  }
 },
 "nbformat": 4,
 "nbformat_minor": 2
}
