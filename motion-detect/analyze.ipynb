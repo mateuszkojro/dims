{
    "cells": [
        {
            "cell_type": "code",
            "execution_count": 1,
            "source": [
                "import numpy as np\n",
                "import matplotlib as plt\n",
                "import pandas as pd\n",
                "import matplotlib.pyplot as plt\n",
                "\n",
                "from CustomAlgorithm import *"
            ],
            "outputs": [],
            "metadata": {}
        },
        {
            "cell_type": "code",
            "execution_count": 2,
            "source": [
                "df = pd.read_csv(\"out.csv\")\n",
                "df.sort_values([\"length\"])\n",
                "df"
            ],
            "outputs": [
                {
                    "output_type": "execute_result",
                    "data": {
                        "text/plain": [
                            "   Unnamed: 0                                               file  start_frame  \\\n",
                            "0           0  /run/media/mateusz/Seagate Expansion Drive/201...            0   \n",
                            "1           1  /run/media/mateusz/Seagate Expansion Drive/201...           88   \n",
                            "2           2  /run/media/mateusz/Seagate Expansion Drive/201...           28   \n",
                            "\n",
                            "   end_frame  box_up_left_x  box_up_left_y  box_down_right_x  \\\n",
                            "0        186           1464            718              1507   \n",
                            "1        186           1520            697              1540   \n",
                            "2         38           1336            974              1386   \n",
                            "\n",
                            "   box_down_right_y     length  count  \n",
                            "0               750  49.678969    394  \n",
                            "1               708  22.472205     88  \n",
                            "2              1046  87.658428     11  "
                        ],
                        "text/html": [
                            "<div>\n",
                            "<style scoped>\n",
                            "    .dataframe tbody tr th:only-of-type {\n",
                            "        vertical-align: middle;\n",
                            "    }\n",
                            "\n",
                            "    .dataframe tbody tr th {\n",
                            "        vertical-align: top;\n",
                            "    }\n",
                            "\n",
                            "    .dataframe thead th {\n",
                            "        text-align: right;\n",
                            "    }\n",
                            "</style>\n",
                            "<table border=\"1\" class=\"dataframe\">\n",
                            "  <thead>\n",
                            "    <tr style=\"text-align: right;\">\n",
                            "      <th></th>\n",
                            "      <th>Unnamed: 0</th>\n",
                            "      <th>file</th>\n",
                            "      <th>start_frame</th>\n",
                            "      <th>end_frame</th>\n",
                            "      <th>box_up_left_x</th>\n",
                            "      <th>box_up_left_y</th>\n",
                            "      <th>box_down_right_x</th>\n",
                            "      <th>box_down_right_y</th>\n",
                            "      <th>length</th>\n",
                            "      <th>count</th>\n",
                            "    </tr>\n",
                            "  </thead>\n",
                            "  <tbody>\n",
                            "    <tr>\n",
                            "      <th>0</th>\n",
                            "      <td>0</td>\n",
                            "      <td>/run/media/mateusz/Seagate Expansion Drive/201...</td>\n",
                            "      <td>0</td>\n",
                            "      <td>186</td>\n",
                            "      <td>1464</td>\n",
                            "      <td>718</td>\n",
                            "      <td>1507</td>\n",
                            "      <td>750</td>\n",
                            "      <td>49.678969</td>\n",
                            "      <td>394</td>\n",
                            "    </tr>\n",
                            "    <tr>\n",
                            "      <th>1</th>\n",
                            "      <td>1</td>\n",
                            "      <td>/run/media/mateusz/Seagate Expansion Drive/201...</td>\n",
                            "      <td>88</td>\n",
                            "      <td>186</td>\n",
                            "      <td>1520</td>\n",
                            "      <td>697</td>\n",
                            "      <td>1540</td>\n",
                            "      <td>708</td>\n",
                            "      <td>22.472205</td>\n",
                            "      <td>88</td>\n",
                            "    </tr>\n",
                            "    <tr>\n",
                            "      <th>2</th>\n",
                            "      <td>2</td>\n",
                            "      <td>/run/media/mateusz/Seagate Expansion Drive/201...</td>\n",
                            "      <td>28</td>\n",
                            "      <td>38</td>\n",
                            "      <td>1336</td>\n",
                            "      <td>974</td>\n",
                            "      <td>1386</td>\n",
                            "      <td>1046</td>\n",
                            "      <td>87.658428</td>\n",
                            "      <td>11</td>\n",
                            "    </tr>\n",
                            "  </tbody>\n",
                            "</table>\n",
                            "</div>"
                        ]
                    },
                    "metadata": {},
                    "execution_count": 2
                }
            ],
            "metadata": {}
        },
        {
            "cell_type": "code",
            "execution_count": 5,
            "source": [
                "show_trigger(TriggerInfo.from_csv_row(df.iloc[0]))"
            ],
            "outputs": [
                {
                    "output_type": "error",
                    "ename": "TypeError",
                    "evalue": "__init__() missing 1 required positional argument: 'event'",
                    "traceback": [
                        "\u001b[0;31m---------------------------------------------------------------------------\u001b[0m",
                        "\u001b[0;31mTypeError\u001b[0m                                 Traceback (most recent call last)",
                        "\u001b[0;32m/tmp/ipykernel_13944/2252640015.py\u001b[0m in \u001b[0;36m<module>\u001b[0;34m\u001b[0m\n\u001b[0;32m----> 1\u001b[0;31m \u001b[0mshow_trigger\u001b[0m\u001b[0;34m(\u001b[0m\u001b[0mTriggerInfo\u001b[0m\u001b[0;34m.\u001b[0m\u001b[0mfrom_csv_row\u001b[0m\u001b[0;34m(\u001b[0m\u001b[0mdf\u001b[0m\u001b[0;34m.\u001b[0m\u001b[0miloc\u001b[0m\u001b[0;34m[\u001b[0m\u001b[0;36m0\u001b[0m\u001b[0;34m]\u001b[0m\u001b[0;34m)\u001b[0m\u001b[0;34m)\u001b[0m\u001b[0;34m\u001b[0m\u001b[0;34m\u001b[0m\u001b[0m\n\u001b[0m",
                        "\u001b[0;32m~/work/dims/motion-detect/CustomAlgorithm.py\u001b[0m in \u001b[0;36mfrom_csv_row\u001b[0;34m(row)\u001b[0m\n\u001b[1;32m    119\u001b[0m     \u001b[0;34m@\u001b[0m\u001b[0mstaticmethod\u001b[0m\u001b[0;34m\u001b[0m\u001b[0;34m\u001b[0m\u001b[0m\n\u001b[1;32m    120\u001b[0m     \u001b[0;32mdef\u001b[0m \u001b[0mfrom_csv_row\u001b[0m\u001b[0;34m(\u001b[0m\u001b[0mrow\u001b[0m\u001b[0;34m)\u001b[0m\u001b[0;34m:\u001b[0m\u001b[0;34m\u001b[0m\u001b[0;34m\u001b[0m\u001b[0m\n\u001b[0;32m--> 121\u001b[0;31m         return TriggerInfo(\n\u001b[0m\u001b[1;32m    122\u001b[0m             \u001b[0mfilename\u001b[0m\u001b[0;34m=\u001b[0m\u001b[0mrow\u001b[0m\u001b[0;34m[\u001b[0m\u001b[0;36m0\u001b[0m\u001b[0;34m]\u001b[0m\u001b[0;34m,\u001b[0m\u001b[0;34m\u001b[0m\u001b[0;34m\u001b[0m\u001b[0m\n\u001b[1;32m    123\u001b[0m             \u001b[0mstart_frame\u001b[0m\u001b[0;34m=\u001b[0m\u001b[0mrow\u001b[0m\u001b[0;34m[\u001b[0m\u001b[0;36m1\u001b[0m\u001b[0;34m]\u001b[0m\u001b[0;34m,\u001b[0m\u001b[0;34m\u001b[0m\u001b[0;34m\u001b[0m\u001b[0m\n",
                        "\u001b[0;31mTypeError\u001b[0m: __init__() missing 1 required positional argument: 'event'"
                    ]
                }
            ],
            "metadata": {}
        },
        {
            "cell_type": "code",
            "execution_count": null,
            "source": [],
            "outputs": [],
            "metadata": {}
        }
    ],
    "metadata": {
        "orig_nbformat": 4,
        "language_info": {
            "name": "python",
            "version": "3.9.6",
            "mimetype": "text/x-python",
            "codemirror_mode": {
                "name": "ipython",
                "version": 3
            },
            "pygments_lexer": "ipython3",
            "nbconvert_exporter": "python",
            "file_extension": ".py"
        },
        "kernelspec": {
            "name": "python3",
            "display_name": "Python 3.9.6 64-bit"
        },
        "interpreter": {
            "hash": "e7370f93d1d0cde622a1f8e1c04877d8463912d04d973331ad4851f04de6915a"
        }
    },
    "nbformat": 4,
    "nbformat_minor": 2
}