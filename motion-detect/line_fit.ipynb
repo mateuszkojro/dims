{
 "cells": [
  {
   "cell_type": "code",
   "execution_count": 10,
   "metadata": {},
   "outputs": [],
   "source": [
    "import numpy as np\n",
    "from random import randint\n",
    "import matplotlib.pyplot as plt\n",
    "from collections import namedtuple\n",
    "from math import sqrt"
   ]
  },
  {
   "cell_type": "code",
   "execution_count": 30,
   "metadata": {},
   "outputs": [],
   "source": [
    "Line = namedtuple('Line', ['a', 'b', 'r', 'delta_a', 'delta_b'])\n",
    "\n",
    "def fit_line(points):\n",
    "    s = len(points)\n",
    "    s_x = sum(p[0] for p in points)\n",
    "    s_y = sum(p[1] for p in points)\n",
    "    s_xx = sum(p[0]**2 for p in points)\n",
    "    s_yy = sum(p[1]**2 for p in points)\n",
    "    s_xy = sum(p[0]*p[1] for p in points)\n",
    "    \n",
    "    delta = s * s_xx - (s_x ** 2) \n",
    "    a = ( s * s_xy - s_x * s_y ) / delta\n",
    "    b = (s_xx * s_y - s_x * s_xy) / delta\n",
    "    \n",
    "    chi_sqr = s_yy - a*s_xy - b*s_y\n",
    "    \n",
    "    delta_a = chi_sqr / (s - 2) * s / delta\n",
    "    delta_b = delta_a * s_xx / s\n",
    "    \n",
    "    r = (s * s_xy - s_x * s_y) / sqrt( (s * s_xx - s_x ** 2) * (s * s_yy - s_y ** 2) )\n",
    "    \n",
    "    return Line(a, b, r, delta_a, delta_b)"
   ]
  },
  {
   "cell_type": "code",
   "execution_count": 31,
   "metadata": {},
   "outputs": [
    {
     "data": {
      "text/plain": [
       "Line(a=0.08137563184837786, b=44.821906223505295, r=0.08227150681818392, delta_a=0.009915490644571279, delta_b=33.53458597956585)"
      ]
     },
     "execution_count": 31,
     "metadata": {},
     "output_type": "execute_result"
    }
   ],
   "source": [
    "random_points = []\n",
    "\n",
    "for point in range(100):\n",
    "    random_points.append((randint(0, 100), randint(0, 100)))\n",
    "\n",
    "line = fit_line(random_points)\n",
    "a, b, r, _,_ = line\n",
    "line"
   ]
  },
  {
   "cell_type": "code",
   "execution_count": 32,
   "metadata": {},
   "outputs": [
    {
     "data": {
      "text/plain": [
       "[<matplotlib.lines.Line2D at 0x7fa20b56fc10>]"
      ]
     },
     "execution_count": 32,
     "metadata": {},
     "output_type": "execute_result"
    },
    {
     "data": {
      "image/png": "[encoded data removed]",
      "text/plain": [
       "<Figure size 432x288 with 1 Axes>"
      ]
     },
     "metadata": {
      "needs_background": "light"
     },
     "output_type": "display_data"
    }
   ],
   "source": [
    "plt.scatter([x[0] for x in random_points], [x[1] for x in random_points])\n",
    "plt.plot([a*x + b for x in range(100)])"
   ]
  },
  {
   "cell_type": "code",
   "execution_count": 33,
   "metadata": {},
   "outputs": [
    {
     "data": {
      "text/plain": [
       "Line(a=1.0, b=0.0, r=1.0, delta_a=0.0, delta_b=0.0)"
      ]
     },
     "execution_count": 33,
     "metadata": {},
     "output_type": "execute_result"
    }
   ],
   "source": [
    "x_eq_y = [(x,x) for x in range(100)]\n",
    "\n",
    "line2 = fit_line(x_eq_y)\n",
    "a2, b2, r, _,_ = line2\n",
    "line2"
   ]
  },
  {
   "cell_type": "code",
   "execution_count": 34,
   "metadata": {},
   "outputs": [
    {
     "data": {
      "text/plain": [
       "[<matplotlib.lines.Line2D at 0x7fa20b4dc3a0>]"
      ]
     },
     "execution_count": 34,
     "metadata": {},
     "output_type": "execute_result"
    },
    {
     "data": {
      "image/png": "[encoded data removed]",
      "text/plain": [
       "<Figure size 432x288 with 1 Axes>"
      ]
     },
     "metadata": {
      "needs_background": "light"
     },
     "output_type": "display_data"
    }
   ],
   "source": [
    "plt.scatter([x[0] for x in x_eq_y], [x[1] for x in x_eq_y])\n",
    "plt.plot([a2*x + b2 for x in range(100)])"
   ]
  },
  {
   "cell_type": "code",
   "execution_count": 29,
   "metadata": {},
   "outputs": [
    {
     "name": "stdout",
     "output_type": "stream",
     "text": [
      "88.4 µs ± 536 ns per loop (mean ± std. dev. of 7 runs, 10000 loops each)\n"
     ]
    }
   ],
   "source": [
    "%timeit fit_line(random_points)"
   ]
  },
  {
   "cell_type": "code",
   "execution_count": null,
   "metadata": {},
   "outputs": [],
   "source": []
  }
 ],
 "metadata": {
  "kernelspec": {
   "display_name": "Python 3 (ipykernel)",
   "language": "python",
   "name": "python3"
  },
  "language_info": {
   "codemirror_mode": {
    "name": "ipython",
    "version": 3
   },
   "file_extension": ".py",
   "mimetype": "text/x-python",
   "name": "python",
   "nbconvert_exporter": "python",
   "pygments_lexer": "ipython3",
   "version": "3.9.6"
  }
 },
 "nbformat": 4,
 "nbformat_minor": 4
}
